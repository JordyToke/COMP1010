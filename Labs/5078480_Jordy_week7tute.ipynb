{
  "nbformat": 4,
  "nbformat_minor": 0,
  "metadata": {
    "colab": {
      "name": "week7tute.ipynb",
      "provenance": [],
      "toc_visible": true,
      "include_colab_link": true
    },
    "kernelspec": {
      "name": "python3",
      "display_name": "Python 3"
    },
    "language_info": {
      "name": "python"
    }
  },
  "cells": [
    {
      "cell_type": "markdown",
      "metadata": {
        "id": "view-in-github",
        "colab_type": "text"
      },
      "source": [
        "<a href=\"https://colab.research.google.com/github/sim-mautner/cs1010-21t2/blob/main/tutes-and-labs/week7tute.ipynb\" target=\"_parent\"><img src=\"https://colab.research.google.com/assets/colab-badge.svg\" alt=\"Open In Colab\"/></a>"
      ]
    },
    {
      "cell_type": "markdown",
      "metadata": {
        "id": "isdUfdAwJLVt"
      },
      "source": [
        "# Week 7 Tutorial"
      ]
    },
    {
      "cell_type": "markdown",
      "metadata": {
        "id": "vkozy5nUhhD_"
      },
      "source": [
        "## Kahoot\n",
        "\n",
        "Your tutor will run through a Kahoot with you to test how well you remember certain concepts from the past two weeks. After the tutes have occurred, the link will be posted here if you wish to go through it in your own time."
      ]
    },
    {
      "cell_type": "markdown",
      "metadata": {
        "id": "oJKgMQF3fx8B"
      },
      "source": [
        "## Composing a solution\n",
        "Consider being placed at position (0,0) on a grid and given a list of directions (of the form north, south, east, and west). You would then follow those directions by moving into the adjacent grid position. For example, if you got the directions north, east, north, west, you would move from (0,0) to (0,1), (1,1), (1,2), and finally to (0,2).\n",
        "\n",
        "Write a function follow_directions(directions) that returns your final position after following the given directions.\n",
        "\n"
      ]
    },
    {
      "cell_type": "code",
      "metadata": {
        "id": "EIVa9XIhf4R9"
      },
      "source": [
        ""
      ],
      "execution_count": null,
      "outputs": []
    },
    {
      "cell_type": "markdown",
      "metadata": {
        "id": "p1_J3V4of4oL"
      },
      "source": [
        "Using the function from above, can you determine if the directions given to you are the smallest number of possible directions to get to the final position?\n",
        "\n",
        "Write this as a function minimal_directions(directions) that returns True if the number of directions is as low as possible, and False otherwise."
      ]
    },
    {
      "cell_type": "code",
      "metadata": {
        "id": "ExxAbkmHf5fa"
      },
      "source": [
        ""
      ],
      "execution_count": null,
      "outputs": []
    },
    {
      "cell_type": "markdown",
      "metadata": {
        "id": "M7zezk7jgBVA"
      },
      "source": [
        "## Project MVP\n",
        "\n",
        "In groups of 3 or 4, discuss what you're doing for your project and what you're proposing as an Minimal Viable Product (MVP).\n",
        "\n",
        "As a group, focus on the \"minimal\" aspect. Can you suggest ways other group members could minimise and/or simplify their MVPs? Your tutor will go around each group and give their feedback."
      ]
    }
  ]
}